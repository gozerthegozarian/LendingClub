{
 "cells": [
  {
   "cell_type": "code",
   "execution_count": 157,
   "metadata": {},
   "outputs": [
    {
     "data": {
      "text/plain": [
       "'images/treeoflosers.pdf'"
      ]
     },
     "execution_count": 157,
     "metadata": {},
     "output_type": "execute_result"
    }
   ],
   "source": [
    "import os\n",
    "import pandas as pd\n",
    "from sklearn.tree import DecisionTreeClassifier, export_graphviz\n",
    "from sklearn import preprocessing\n",
    "import matplotlib.pyplot as plt\n",
    "import numpy as np\n",
    "from sklearn.model_selection import *\n",
    "import graphviz\n",
    "import os\n",
    "from globalmodules.io.databaseio import MSSQLServerDatabase\n",
    "\n",
    "##Please download and install graphviz http://www.graphviz.org/Download_windows.php\n",
    "os.environ[\"PATH\"] += os.pathsep + 'C:/Program Files (x86)/Graphviz2.38/bin/'\n",
    "\n",
    "##Set variables\n",
    "dbserver = 'LAPTOP-FIAPVG6U\\SQLEXPRESS'\n",
    "dbname = 'LendingClub'\n",
    "targettable = 'dbo.loans'\n",
    "\n",
    "##DB instance\n",
    "dbLendingClub = MSSQLServerDatabase(dbserver, dbname)\n",
    "\n",
    "##Read entire table\n",
    "dfLendingClub = dbLendingClub.read_to_datafame('SELECT * FROM {}'.format(targettable))\n",
    "\n",
    "##Profile data at high level\n",
    "##Get some nice results to a table.  to_html is fast and neat\n",
    "dfLendingClub.describe().to_html('images/loanmetadataprofile.html')\n",
    "\n",
    "##Lets also see relationships between the fields and their correlations.\n",
    "dfLendingClub.corr('pearson').to_html('images/pearsoncorrelation.html')\n",
    "\n",
    "##Sample for decision tree processing on local computer.  100k records should suffice.\n",
    "dfLendingClub = dfLendingClub.iloc[0:10000]\n",
    "\n",
    "##Search for meaningful relationships\n",
    "##Decision tree of certain losers\n",
    "var1 = dfLendingClub['annual_inc'].fillna(0.0)\n",
    "le2 = preprocessing.LabelEncoder()\n",
    "le3 = preprocessing.LabelEncoder()\n",
    "le4 = preprocessing.LabelEncoder()\n",
    "le2.fit(dfLendingClub['emp_length'].fillna('NA'))\n",
    "le3.fit(dfLendingClub['term'].fillna('NA'))\n",
    "le4.fit(dfLendingClub['grade'].fillna('NA'))\n",
    "var2 = le2.transform(dfLendingClub['emp_length'].fillna('NA'))\n",
    "var3 = le3.transform(dfLendingClub['term'].fillna('NA'))\n",
    "var4 = le4.transform(dfLendingClub['grade'].fillna('NA'))\n",
    "\n",
    "delinquents = np.array(list(dfLendingClub['mths_since_last_major_derog'].fillna(0.0)))\n",
    "inputvars=np.array(list(zip(var1,var2,var3,var4)))\n",
    "##extract training data and testing for loans that lost money\n",
    "xtrain, xtest, ytrain, ytest = train_test_split(inputvars, delinquents)\n",
    "##Model\n",
    "tree = DecisionTreeClassifier(criterion='gini')\n",
    "##trainedout = tree.fit(xtrain, ytrain)\n",
    "testout = tree.fit(xtest, ytest)\n",
    "data = export_graphviz(testout, out_file=None, feature_names=['annual_inc','emp_length','term','grade'])\n",
    "viz = graphviz.Source(data)\n",
    "viz.render(\"images/treeoflosers\")\n"
   ]
  },
  {
   "cell_type": "code",
   "execution_count": 114,
   "metadata": {},
   "outputs": [],
   "source": [
    "import pandas as pd\n",
    "from globalmodules.io.databaseio import MSSQLServerDatabase\n",
    "\n",
    "##Set variables\n",
    "dbserver = 'LAPTOP-FIAPVG6U\\SQLEXPRESS'\n",
    "dbname = 'LendingClub'\n",
    "targettable = 'dbo.loans'\n",
    "\n",
    "##DB instance\n",
    "dbLendingClub = MSSQLServerDatabase(dbserver, dbname)\n",
    "\n",
    "##Read entire table\n",
    "dfLendingClub = dbLendingClub.read_to_datafame(\"SELECT * FROM {} WHERE term LIKE ' 36 months'\".format(targettable))\n",
    "\n",
    "##36 Month Evaluation\n",
    "##pd.set_option('display.float_format', lambda x: '%.3f' % x)\n",
    "##pd.set_option('display.int_format', lambda x: '%.3f' % x)\n",
    "pd.set_option('display.precision',3)\n",
    "\n",
    "##Average Rate of return\n",
    "dfROR = pd.DataFrame([(dfLendingClub.total_pymnt.sum()-dfLendingClub.funded_amnt.sum())/dfLendingClub.funded_amnt.sum()],['returnrate'])\n",
    "dfROR.to_html('images/rateofreturn.html')\n",
    "\n",
    "##Bucket by year and grade, what is the profitability?\n",
    "##Generate results to pivot style table\n",
    "dfLendingClub['origyear'] = dfLendingClub['issue_d'].dt.year\n",
    "dfPivot = dfLendingClub.groupby(['grade', 'origyear']).agg({'funded_amnt':'sum', 'total_pymnt':'sum'})\n",
    "dfPivot['returnrate'] = (dfPivot.total_pymnt-dfPivot.funded_amnt)/dfPivot.funded_amnt\n",
    "dfPivot.to_html('images/pivoteddata.html')"
   ]
  },
  {
   "cell_type": "code",
   "execution_count": null,
   "metadata": {},
   "outputs": [],
   "source": []
  }
 ],
 "metadata": {
  "kernelspec": {
   "display_name": "Python 3",
   "language": "python",
   "name": "python3"
  },
  "language_info": {
   "codemirror_mode": {
    "name": "ipython",
    "version": 3
   },
   "file_extension": ".py",
   "mimetype": "text/x-python",
   "name": "python",
   "nbconvert_exporter": "python",
   "pygments_lexer": "ipython3",
   "version": "3.6.1"
  }
 },
 "nbformat": 4,
 "nbformat_minor": 1
}
